{
  "cells": [
    {
      "cell_type": "markdown",
      "metadata": {
        "id": "view-in-github",
        "colab_type": "text"
      },
      "source": [
        "<a href=\"https://colab.research.google.com/github/lukeliuli/SUMONBDT/blob/main/mainNBDT1.ipynb\" target=\"_parent\"><img src=\"https://colab.research.google.com/assets/colab-badge.svg\" alt=\"Open In Colab\"/></a>"
      ]
    },
    {
      "cell_type": "code",
      "source": [
        "import torch\n",
        "import torchvision\n",
        "import torchvision.transforms as transforms\n",
        "\n",
        "import torchvision.models as models\n",
        "import torchvision.datasets as datasets\n",
        "import torch.nn as nn\n",
        "import torch.nn.functional as F\n",
        "\n",
        "import matplotlib.pyplot as plt\n",
        "import numpy as np\n",
        "import torch.optim as optim\n",
        "\n",
        "import time\n",
        "from collections import namedtuple\n",
        "import torch.backends.cudnn as cudnn\n",
        "import resnet\n",
        "\n",
        "features = torch.Tensor()\n",
        "def hook(module, input, output):\n",
        "    '''把这层的输出拷贝到features中'''\n",
        "    features.copy_(output.data)\n",
        "    print(output.data)\n",
        "\n",
        "\n",
        "\n",
        "def evalCifar(testloader, resnet18, classes):\n",
        "\n",
        "    correct = 0\n",
        "    total = 0\n",
        "    resnet18.eval()\n",
        "    with torch.no_grad():\n",
        "        for data in testloader:\n",
        "            images, labels = data\n",
        "            labels = labels.to(device)\n",
        "            images = images.to(device)\n",
        "            outputs = resnet18(images)\n",
        "            _, predicted = torch.max(outputs.data, 1)\n",
        "            total += labels.size(0)\n",
        "            correct += (predicted == labels).sum().item()\n",
        "\n",
        "    print('Accuracy of the network on the 10000 test images: %d %%' % (\n",
        "        100 * correct / total))\n",
        "\n",
        "    # class_correct = list(0. for i in range(10))\n",
        "    # class_total = list(0. for i in range(10))\n",
        "    # with torch.no_grad():\n",
        "    #     for data in testloader:\n",
        "    #         images, labels = data\n",
        "    #         labels = labels.to(device)\n",
        "    #         images = images.to(device)\n",
        "    #         outputs = resnet18(images)\n",
        "    #         _, predicted = torch.max(outputs, 1)\n",
        "    #         c = (predicted == labels).squeeze()\n",
        "    #         for i in range(4):\n",
        "    #             label = labels[i]\n",
        "    #             class_correct[label] += c[i].item()\n",
        "    #             class_total[label] += 1\n",
        "\n",
        "    # for i in range(10):\n",
        "    #     print('Accuracy of %5s : %2d %%' % (\n",
        "    #         classes[i], 100 * class_correct[i] / class_total[i]))\n",
        "\n",
        "\n",
        "#第一步用RESNET 训练CIFAR10\n",
        "#https: // github.com/lukeliuli/pytorch-handbook/blob/master/chapter1/4_cifar10_tutorial.ipynb\n",
        "#https: // github.com/fengdu78/Data-Science-Notes/tree/master/8.deep-learning/PyTorch_beginner\n",
        "#https: // blog.csdn.net/wudibaba21/article/details/106495118/\n",
        "\n",
        "\n",
        "\n",
        "batch_sizeV = 512\n",
        "transform = transforms.Compose(\n",
        "    [transforms.RandomCrop(32, padding=4),  # 先四周填充0，在吧图像随机裁剪成32*32\n",
        "     transforms.RandomHorizontalFlip(),\n",
        "     transforms.ToTensor(),\n",
        "     transforms.Normalize((0.4914, 0.4822, 0.4465), (0.2023, 0.1994, 0.2010))])  # R,G,B每层的归一化用到的均值和方差\n",
        "\n",
        "transform1 = transforms.Compose(\n",
        "    [transforms.ToTensor(), transforms.Normalize((0.4914, 0.4822, 0.4465), (0.2023, 0.1994, 0.2010))])  # R,G,B每层的归一化用到的均值和方差\n",
        "\n",
        "trainset = torchvision.datasets.CIFAR10(root='./data', train=True,\n",
        "                                        download=True, transform=transform)\n",
        "trainloader = torch.utils.data.DataLoader(trainset, batch_size=batch_sizeV,\n",
        "                                          shuffle=True, num_workers=2)\n",
        "testset = torchvision.datasets.CIFAR10(root='./data', train=False,\n",
        "                                       download=True, transform=transform1)\n",
        "testloader = torch.utils.data.DataLoader(testset, batch_size=batch_sizeV,\n",
        "                                         shuffle=False, num_workers=2)\n",
        "\n",
        "classes = ('plane', 'car', 'bird', 'cat',\n",
        "           'deer', 'dog', 'frog', 'horse', 'ship', 'truck')\n",
        "\n",
        "resnet18 = resnet.resnet18(num_classes=10)\n",
        "modelPathName=\"/content/drive/MyDrive/SUMONBDT/trainedModes/resnet18End_accuray95.modeparams\"\n",
        "params = torch.load(modelPathName)\n",
        "resnet18.load_state_dict(params[\"net\"])\n",
        "startEpoch =params[\"epoch\"]"
      ],
      "metadata": {
        "id": "lGPjo_qs0b_3",
        "outputId": "3a2edf09-8c69-46cf-d862-ad230c6f826c",
        "colab": {
          "base_uri": "https://localhost:8080/"
        }
      },
      "execution_count": 11,
      "outputs": [
        {
          "output_type": "stream",
          "name": "stdout",
          "text": [
            "Files already downloaded and verified\n",
            "Files already downloaded and verified\n"
          ]
        }
      ]
    }
  ],
  "metadata": {
    "colab": {
      "collapsed_sections": [],
      "name": "欢迎使用 Colaboratory",
      "provenance": [],
      "include_colab_link": true
    },
    "kernelspec": {
      "display_name": "Python 3",
      "name": "python3"
    }
  },
  "nbformat": 4,
  "nbformat_minor": 0
}