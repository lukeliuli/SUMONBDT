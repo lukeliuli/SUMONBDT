{
 "cells": [
  {
   "cell_type": "code",
   "execution_count": 10,
   "id": "25326aaf",
   "metadata": {
    "ExecuteTime": {
     "end_time": "2022-12-06T04:07:19.310659Z",
     "start_time": "2022-12-06T04:07:19.305262Z"
    }
   },
   "outputs": [
    {
     "name": "stdout",
     "output_type": "stream",
     "text": [
      "1 0\n",
      "7 0\n",
      "14 0\n",
      "21 0\n"
     ]
    }
   ],
   "source": [
    "a = [[1, 0],[7,0],[14,0],[21,0]]\n",
    "len(a)\n",
    "for v in a:\n",
    "   v1,v2 = v\n",
    "   print(v1,v2)"
   ]
  },
  {
   "cell_type": "code",
   "execution_count": null,
   "id": "e2e064c5",
   "metadata": {},
   "outputs": [],
   "source": [
    "1. 看docker运行实例: sudo docker ps\n",
    "2. 以命令行登录docker实例,sudo docker exec -it t1  /bin/bash\n",
    "3. 或者第一次运行\n",
    "\n",
    "sudo docker run -itd --name t1 -v /home/liuli:/home/liuli0 -p 80:8012  -p 8022:22 sumoquaninvestjupyter:1.8   /bin/bash \n",
    "sudo docker run -itd sumoquaninvestjupyter:1.8   /bin/bash\n",
    "\n",
    "#### docker 映射端口\n",
    "+ sudo docker run -itd -p 6666:6666  laughing_kalam  /bin/bash\n",
    "\n",
    "####docker 停止\n",
    "+ docker stop t1\n",
    "\n",
    "删除所有未运行的容器\n",
    "docker rm $(docker ps -a -q)\n",
    "\n",
    "\n",
    "#### docker commit :从容器创建一个新的镜像\n",
    "+ docker commit <容器id> <镜像名>:<tag>\n",
    "+ 例如 sudo docker commit t1 sumoquaninvestjupyter:1.8\n",
    "\n",
    "#### 将指定镜像保存成 tar 归档文件\n",
    "+ docker save -o ubuntuSumoQuaninvestJupyterV1.tar sumoquaninvestjupyter:1.8\n",
    "\n",
    "#### 从 tar 导入镜像\n",
    "+ docker load -i ubuntuSumoQuaninvestJupyterV1.tar\n",
    "\n",
    "\n",
    "#### 查看镜像\n",
    "+ sudo docker images \n",
    "\n",
    "#### 删除单个镜像\n",
    "+ sudo docker rmi -f  <镜像id>\n",
    "\n",
    "#### pip3 install matplotlib==3.2.2 错误\n",
    "+ python3 -m pip install --upgrade pip   \n",
    "+ sudo apt-get install libfreetype6-dev    \n",
    "+ sudo apt-get install pkg-config  \n",
    "+ sudo apt-get install libpng12-dev  \n",
    "+ sudo apt-get install pkg-config  \n",
    "\n",
    "\n",
    "#### 安装talib \n",
    "+ https://blog.csdn.net/hampeter/article/details/113799342\n",
    "\n",
    "#### 安装Backtrader\n",
    "+ https://blog.csdn.net/BackTraderCN/article/details/90199194\n",
    "\n",
    "#### 安装 pyfolio\n",
    "+ pip install pyfolio\n",
    "\n",
    "####  其他错误\n",
    "+ pip3 install --upgrade numpy  -i https://pypi.tuna.tsinghua.edu.cn/simple\n",
    "\n",
    "\n",
    "#### jupyter 安装\n",
    "+ pip3 install jupyter notebook -i https://pypi.tuna.tsinghua.edu.cn/simple\n",
    "+ sudo apt install jupyter-notebook\n",
    "+ jupyter notebook --generate-config\n",
    "+ jupyter notebook password\n",
    "c.NotebookApp.allow_remote_access = True\n",
    "c.NotebookApp.ip = '*' # 所有绑定服务器的IP都能访问，若想只在特定ip访问，输入ip地址即可\n",
    "c.NotebookApp.open_browser = False # 我们并不想在服务器上直接打开Jupyter Notebook，所以设置成False\n",
    "c.NotebookApp.port = 7777 # 将端口设置为自己喜欢的吧，默认是8888\n",
    "c.NotebookApp.notebook_dir = '/home/liuli'\n",
    "c.NotebookApp.allow_root = True\n",
    "\n",
    "+ conda install nb_conda \n",
    "+ pip3 install jupyter_contrib_nbextension -i https://pypi.tuna.tsinghua.edu.cn/simple\n",
    "\n",
    "+ jupyter 基本操作https://www.codenong.com/cs105860734/\n",
    "#### 防火墙\n",
    "+ ufw status\n",
    "\n",
    "#### 安装realvncserver\n",
    "+ https://www.jianshu.com/p/652f3b90da49\n",
    "\n",
    "####github git\n",
    "+ ssh-keygen -t rsa -C \"lukeliuli@163.com\"\n",
    "+ cat ~/.ssh/id_rsa.pub\n",
    "\n",
    "####花生壳\n",
    "+ phddns start\n",
    "\n",
    "jupyter notebook --ip 0.0.0.0\n",
    "\n",
    "#screen 命令\n",
    "screen -d -r jupyter\n",
    "\n",
    "#VScode远程连接服务器写Jupyter Notebook或python script\n",
    "https://www.jianshu.com/p/e8f377f498df\n",
    "\n",
    "# Ubuntu20.04.3设SSH服务器\n",
    "https://blog.csdn.net/baidu_18624493/article/details/122197231\n",
    "\n",
    "#docker 安装tensorflow\n",
    "https://www.miaokee.com/385554.html\n",
    "\n",
    "#安装tensorflow\n",
    "https://blog.csdn.net/tina_ttl/article/details/51762471\n",
    "\n",
    "#pip 安装tensorflow 必须使用conda,因为版本不对应\n",
    "https://blog.csdn.net/qq_43391219/article/details/126154311\n",
    "https://blog.csdn.net/qq_43391219/article/details/126154311\n",
    "\n",
    "\n",
    "#Tensorflow和Keras版本对照及环境安装\n",
    "https://blog.csdn.net/Strive_For_Future/article/details/126587222\n",
    "conda config --set auto_activate_base false\n",
    "conda env list\n",
    "conda remove -n xxxx --all   //创建xxxx虚拟环境\n",
    "pip install tensorflow==2.2  -i https://pypi.tuna.tsinghua.edu.cn/simple\n",
    " pip install keras==2.3.1 -i https://pypi.tuna.tsinghua.edu.cn/simple\n",
    " pip install matplotlib -i https://pypi.tuna.tsinghua.edu.cn/simple\n",
    " pip install pandas -i https://pypi.tuna.tsinghua.edu.cn/simple\n",
    "\n",
    "pip install scikit-learn -i https://pypi.tuna.tsinghua.edu.cn/simple\n",
    "\n",
    "pip install imblearn -i https://pypi.tuna.tsinghua.edu.cn/simple\n",
    "jupyter kernelspec list\n",
    "\n",
    "# 添加conda虚拟环境到jupyter\n",
    "https://blog.csdn.net/weixin_44002829/article/details/107814846\n",
    "* jupyter kernelspec list\n",
    "conda install ipykernel nb_conda\n",
    "ipython kernel install --user --name tensor22py36"
   ]
  },
  {
   "cell_type": "code",
   "execution_count": null,
   "id": "801d97de",
   "metadata": {},
   "outputs": [],
   "source": []
  },
  {
   "cell_type": "code",
   "execution_count": 7,
   "id": "7c050b52",
   "metadata": {
    "ExecuteTime": {
     "end_time": "2022-12-06T18:12:44.445738Z",
     "start_time": "2022-12-06T18:12:44.004281Z"
    }
   },
   "outputs": [
    {
     "name": "stdout",
     "output_type": "stream",
     "text": [
      "##################start sim 0##################\r\n",
      "##################start sim 1##################\r\n",
      "##################start sim 2##################\r\n",
      "##################start sim 3##################\r\n",
      "##################start sim 4##################\r\n",
      "##################start sim 5##################\r\n",
      "##################start sim 6##################\r\n",
      "##################start sim 7##################\r\n",
      "##################start sim 8##################\r\n",
      "##################start sim 9##################\r\n",
      "##################start sim 10##################\r\n",
      "##################start sim 11##################\r\n",
      "##################start sim 12##################\r\n",
      "##################start sim 13##################\r\n",
      "##################start sim 14##################\r\n",
      "##################start sim 15##################\r\n",
      "##################start sim 16##################\r\n",
      "##################start sim 17##################\r\n",
      "##################start sim 18##################\r\n",
      "##################start sim 19##################\r\n"
     ]
    }
   ],
   "source": [
    "!python simSumoCmd.py"
   ]
  }
 ],
 "metadata": {
  "kernelspec": {
   "display_name": "keras220CpuJupyter",
   "language": "python",
   "name": "keras220cpujupyter"
  },
  "language_info": {
   "codemirror_mode": {
    "name": "ipython",
    "version": 3
   },
   "file_extension": ".py",
   "mimetype": "text/x-python",
   "name": "python",
   "nbconvert_exporter": "python",
   "pygments_lexer": "ipython3",
   "version": "3.6.10"
  },
  "varInspector": {
   "cols": {
    "lenName": 16,
    "lenType": 16,
    "lenVar": 40
   },
   "kernels_config": {
    "python": {
     "delete_cmd_postfix": "",
     "delete_cmd_prefix": "del ",
     "library": "var_list.py",
     "varRefreshCmd": "print(var_dic_list())"
    },
    "r": {
     "delete_cmd_postfix": ") ",
     "delete_cmd_prefix": "rm(",
     "library": "var_list.r",
     "varRefreshCmd": "cat(var_dic_list()) "
    }
   },
   "types_to_exclude": [
    "module",
    "function",
    "builtin_function_or_method",
    "instance",
    "_Feature"
   ],
   "window_display": false
  }
 },
 "nbformat": 4,
 "nbformat_minor": 5
}
