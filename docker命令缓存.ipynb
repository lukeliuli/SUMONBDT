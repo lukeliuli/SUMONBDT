{
 "cells": [
  {
   "cell_type": "code",
   "execution_count": 10,
   "id": "b9ac2189",
   "metadata": {
    "ExecuteTime": {
     "end_time": "2022-12-06T04:07:19.310659Z",
     "start_time": "2022-12-06T04:07:19.305262Z"
    }
   },
   "outputs": [
    {
     "name": "stdout",
     "output_type": "stream",
     "text": [
      "1 0\n",
      "7 0\n",
      "14 0\n",
      "21 0\n"
     ]
    }
   ],
   "source": [
    "a = [[1, 0],[7,0],[14,0],[21,0]]\n",
    "len(a)\n",
    "for v in a:\n",
    "   v1,v2 = v\n",
    "   print(v1,v2)"
   ]
  },
  {
   "cell_type": "code",
   "execution_count": null,
   "id": "2300f01e",
   "metadata": {},
   "outputs": [],
   "source": [
    "sudo  docker run -it ubuntu bash\n",
    "sudo docker run -d --name sumoUbuntu1 -p 33:33 ubuntu\n",
    "sudo docker exec -it sumoUbuntu1 /bin/bash\n",
    "sudo docker run -it ubuntu /bin/bash\n",
    "#docker commit -m=\"提交的描述信息\"  -a=\"作者\"  容器id  目标镜像名:[TAG]\n",
    "sudo docker commit -a=“lukeliuli” -m=\"sumowithlibsumo&SUMONBDT\" aaf sumoubuntu:1.0\n",
    "sudo docker run -it sumoubuntu:1.0 /bin/bash\n",
    "sudo docker run -it -v /home/liuli:/home/liuli sumoubuntu:1.0 /bin/bash\n",
    "        \n",
    "sudo docker rmi -f  sumoubuntu:2.0\n",
    "sudo docker tag  sumoubuntu:1.0 lukeliuli/sumoubuntu\n",
    "sudo docker push lukeliuli/sumoubuntu\n",
    "sudo docker save -o sumoubuntu_v1.tar sumoubuntu:1.0\n",
    "##################################\n",
    "sudo docker  docker run -itd -v /home/liuli:/home/liuli sumoubuntu:1.0 /bin/bash\n",
    "sudo docker docker attach 1e560fca3906 \n",
    "sudo docker docker attach 1e560fca3906 \n",
    "sudo docker docker exec -it 243c32535da7 /bin/bash\n",
    "sudo docker export 1e560fca3906 > ubuntu.tar\n",
    "cat docker/ubuntu.tar | docker import - test/ubuntu:v1\n",
    "\n",
    "docker run learn/tutorial apt-get install -y ping\n",
    "docker commit 698 learn/ping\n",
    "docker run lean/ping ping www.google.com\n",
    " docker inspect efe"
   ]
  },
  {
   "cell_type": "code",
   "execution_count": null,
   "id": "d6922899",
   "metadata": {},
   "outputs": [],
   "source": []
  },
  {
   "cell_type": "code",
   "execution_count": 7,
   "id": "ab96a23b",
   "metadata": {
    "ExecuteTime": {
     "end_time": "2022-12-06T18:12:44.445738Z",
     "start_time": "2022-12-06T18:12:44.004281Z"
    }
   },
   "outputs": [
    {
     "name": "stdout",
     "output_type": "stream",
     "text": [
      "##################start sim 0##################\r\n",
      "##################start sim 1##################\r\n",
      "##################start sim 2##################\r\n",
      "##################start sim 3##################\r\n",
      "##################start sim 4##################\r\n",
      "##################start sim 5##################\r\n",
      "##################start sim 6##################\r\n",
      "##################start sim 7##################\r\n",
      "##################start sim 8##################\r\n",
      "##################start sim 9##################\r\n",
      "##################start sim 10##################\r\n",
      "##################start sim 11##################\r\n",
      "##################start sim 12##################\r\n",
      "##################start sim 13##################\r\n",
      "##################start sim 14##################\r\n",
      "##################start sim 15##################\r\n",
      "##################start sim 16##################\r\n",
      "##################start sim 17##################\r\n",
      "##################start sim 18##################\r\n",
      "##################start sim 19##################\r\n"
     ]
    }
   ],
   "source": [
    "!python simSumoCmd.py"
   ]
  }
 ],
 "metadata": {
  "kernelspec": {
   "display_name": "keras220CpuJupyter",
   "language": "python",
   "name": "keras220cpujupyter"
  },
  "language_info": {
   "codemirror_mode": {
    "name": "ipython",
    "version": 3
   },
   "file_extension": ".py",
   "mimetype": "text/x-python",
   "name": "python",
   "nbconvert_exporter": "python",
   "pygments_lexer": "ipython3",
   "version": "3.6.10"
  },
  "varInspector": {
   "cols": {
    "lenName": 16,
    "lenType": 16,
    "lenVar": 40
   },
   "kernels_config": {
    "python": {
     "delete_cmd_postfix": "",
     "delete_cmd_prefix": "del ",
     "library": "var_list.py",
     "varRefreshCmd": "print(var_dic_list())"
    },
    "r": {
     "delete_cmd_postfix": ") ",
     "delete_cmd_prefix": "rm(",
     "library": "var_list.r",
     "varRefreshCmd": "cat(var_dic_list()) "
    }
   },
   "types_to_exclude": [
    "module",
    "function",
    "builtin_function_or_method",
    "instance",
    "_Feature"
   ],
   "window_display": false
  }
 },
 "nbformat": 4,
 "nbformat_minor": 5
}
