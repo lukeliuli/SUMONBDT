{
 "cells": [
  {
   "cell_type": "code",
   "execution_count": 5,
   "id": "d22dbdd0-387f-423b-891b-8648f723d605",
   "metadata": {},
   "outputs": [
    {
     "data": {
      "text/plain": [
       "['4950495135499548656565', '4950495135499548656565', '4950495135499548656565']"
      ]
     },
     "execution_count": 5,
     "metadata": {},
     "output_type": "execute_result"
    }
   ],
   "source": [
    "str1 = [\"1213#1_0AAA\",\"1213#1_0AAA\",\"1213#1_0AAA\"]\n",
    "\n",
    "def string2int(inputString):\n",
    "     #print(inputString)\n",
    "     tmp = \"\"\n",
    "     strTmp=[str(ord(x)) for x in inputString]\n",
    "     #print(strTmp)\n",
    "     tmp=tmp.join(strTmp)\n",
    "     return tmp\n",
    "    \n",
    "    \n",
    "str2 =[string2int(x) for x in str1 ]\n",
    "\n",
    "str2"
   ]
  },
  {
   "cell_type": "code",
   "execution_count": null,
   "id": "3687a979-c777-45f4-a298-76630ed70e01",
   "metadata": {},
   "outputs": [],
   "source": []
  }
 ],
 "metadata": {
  "kernelspec": {
   "display_name": "Python [conda env:tensor23py36cpu] *",
   "language": "python",
   "name": "conda-env-tensor23py36cpu-py"
  },
  "language_info": {
   "codemirror_mode": {
    "name": "ipython",
    "version": 3
   },
   "file_extension": ".py",
   "mimetype": "text/x-python",
   "name": "python",
   "nbconvert_exporter": "python",
   "pygments_lexer": "ipython3",
   "version": "3.6.13"
  }
 },
 "nbformat": 4,
 "nbformat_minor": 5
}
