{
 "cells": [
  {
   "cell_type": "code",
   "execution_count": 44,
   "id": "7de39dac",
   "metadata": {
    "ExecuteTime": {
     "end_time": "2022-12-08T03:11:35.333814Z",
     "start_time": "2022-12-08T03:11:34.783186Z"
    }
   },
   "outputs": [
    {
     "name": "stdout",
     "output_type": "stream",
     "text": [
      "['VehicleFlowSouthToNorth6.33' 42.0 99.24 15.2 16.667 6.525 5.954 0.95 0.0\n",
      " 6.45 0.0 11.95 0.0 17.45 0.0 22.96 0.01 28.47 0.03 34.04 0.06 39.61 0.43\n",
      " 45.82 0.57 52.49 1.16 60.17 1.78 68.5 1.42 0.0 0.0 0.0 0.0 0.0 0.0 0.0\n",
      " 0.0 0.0 0.0 0.0 0.0 0 0 0 0 4]\n"
     ]
    },
    {
     "data": {
      "text/plain": [
       "array([[9.500e-01, 0.000e+00],\n",
       "       [6.450e+00, 0.000e+00],\n",
       "       [1.195e+01, 0.000e+00],\n",
       "       [1.745e+01, 0.000e+00],\n",
       "       [2.296e+01, 1.000e-02],\n",
       "       [2.847e+01, 3.000e-02],\n",
       "       [3.404e+01, 6.000e-02],\n",
       "       [3.961e+01, 4.300e-01],\n",
       "       [4.582e+01, 5.700e-01],\n",
       "       [5.249e+01, 1.160e+00],\n",
       "       [6.017e+01, 1.780e+00],\n",
       "       [6.850e+01, 1.420e+00],\n",
       "       [0.000e+00, 0.000e+00],\n",
       "       [0.000e+00, 0.000e+00],\n",
       "       [0.000e+00, 0.000e+00],\n",
       "       [0.000e+00, 0.000e+00],\n",
       "       [0.000e+00, 0.000e+00],\n",
       "       [0.000e+00, 0.000e+00],\n",
       "       [0.000e+00, 0.000e+00],\n",
       "       [0.000e+00, 0.000e+00]])"
      ]
     },
     "execution_count": 44,
     "metadata": {},
     "output_type": "execute_result"
    }
   ],
   "source": [
    "import datetime  # For datetime objects\n",
    "import os.path  # To manage paths\n",
    "import sys  # To find out the script name (in argv[0])\n",
    "import pandas as pd\n",
    "import numpy as np\n",
    "from simSumoCmd import simSumoCmd\n",
    "####获得一个样本进行测试\n",
    "df1 = pd.read_csv('./trainData/france_0_allSamples.csv')\n",
    "df1.head(5)\n",
    "df2 = df1.loc[df1['redLightTime']>20]\n",
    "df2 = df2.loc[df1['speedFlag'] ==4]\n",
    "df2 = df2.loc[df1['vehPos_10'] >0]\n",
    "tmp = df2.iloc[0].values\n",
    "print(tmp)\n",
    "vehID,redLightTime,distToRedLight,speed,laneAvgSpeed,arriveTime1,arriveTime2,\\\n",
    "    vehPos_1,vehSpeed_1,vehPos_2,vehSpeed_2,vehPos_3,vehSpeed_3,vehPos_4,vehSpeed_4,vehPos_5,vehSpeed_5,\\\n",
    "    vehPos_6,vehSpeed_6,vehPos_7,vehSpeed_7,vehPos_8,vehSpeed_8,vehPos_9,vehSpeed_9,vehPos_10,vehSpeed_10,\\\n",
    "    vehPos_11,vehSpeed_11,vehPos_12,vehSpeed_12,vehPos_13,vehSpeed_13,vehPos_14,vehSpeed_14,vehPos_15,vehSpeed_15,\\\n",
    "    vehPos_16,vehSpeed_16,vehPos_17,vehSpeed_17,vehPos_18,vehSpeed_18,vehPos_19,vehSpeed_19,vehPos_20,vehSpeed_20,\\\n",
    "    speedFlag = tmp\n",
    "vehObj = np.array([distToRedLight,speed])\n",
    "vehsOthers = tmp[7:-1]\n",
    "vehsOthers = vehsOthers.reshape(-1,2).astype(float)\n",
    "greenTime = redLightTime\n",
    "params =dict()\n",
    "params[\"simNum\"] = 20\n",
    "params[\"greenTime\"] = 15\n",
    "params[\"otherVehs\"] = [[1, 0],[7,0],[14,0]]  # [[距离交通灯的距离1，行驶速度1],[距离交通灯的距离2，行驶速度2]]\n",
    "                            \n",
    "#[车辆长度，最大加速度,最大减加速度，最大速度，反应时间,最小间距,不专心,速度噪声]                              \n",
    "params[\"otherVehsParams\"] = [5,2,-2,60/3.6,0.5, 1.2 ,0.1,0.05] \n",
    "                            \n",
    "params[\"objectVeh\"] = [30,0]\n",
    "#[车辆长度，最大加速度,最大减加速度，最大速度，反应时间,最小间距,不专心,速度噪声]  \n",
    "params[\"objectVehParams\"] = [5,2,-2,60/3.6,0.5, 1.2 ,0.1,0.05] "
   ]
  },
  {
   "cell_type": "code",
   "execution_count": null,
   "id": "18cc137f",
   "metadata": {},
   "outputs": [],
   "source": []
  }
 ],
 "metadata": {
  "kernelspec": {
   "display_name": "keras220CpuJupyter",
   "language": "python",
   "name": "keras220cpujupyter"
  },
  "language_info": {
   "codemirror_mode": {
    "name": "ipython",
    "version": 3
   },
   "file_extension": ".py",
   "mimetype": "text/x-python",
   "name": "python",
   "nbconvert_exporter": "python",
   "pygments_lexer": "ipython3",
   "version": "3.6.10"
  },
  "varInspector": {
   "cols": {
    "lenName": 16,
    "lenType": 16,
    "lenVar": 40
   },
   "kernels_config": {
    "python": {
     "delete_cmd_postfix": "",
     "delete_cmd_prefix": "del ",
     "library": "var_list.py",
     "varRefreshCmd": "print(var_dic_list())"
    },
    "r": {
     "delete_cmd_postfix": ") ",
     "delete_cmd_prefix": "rm(",
     "library": "var_list.r",
     "varRefreshCmd": "cat(var_dic_list()) "
    }
   },
   "types_to_exclude": [
    "module",
    "function",
    "builtin_function_or_method",
    "instance",
    "_Feature"
   ],
   "window_display": false
  }
 },
 "nbformat": 4,
 "nbformat_minor": 5
}
