{
 "cells": [
  {
   "cell_type": "code",
   "execution_count": null,
   "id": "a07f6c25",
   "metadata": {
    "ExecuteTime": {
     "end_time": "2023-01-26T03:55:17.555121Z",
     "start_time": "2023-01-26T03:55:17.435109Z"
    }
   },
   "outputs": [],
   "source": [
    "#一些常用的命令\n",
    "!nvidia-smi\n",
    "\n",
    "import tensorflow as tf\n",
    "tf.__version__\n",
    "tf.config.list_physical_devices('GPU')"
   ]
  },
  {
   "cell_type": "code",
   "execution_count": null,
   "id": "0c1c3d22-33c3-4ed1-ac94-04a6ae4dae54",
   "metadata": {},
   "outputs": [],
   "source": [
    "print(\"mainSimpleStep0为简化的步骤0程序，只有分离式的训练，并获得数据\")\n",
    "'''\n",
    "parser.add_argument('-np','--numEpochs', default=1000, type=int,help='分离式模型每层训练次数')\n",
    "parser.add_argument('-trn','--trainOrNot', default=1,type=int,help='训练吗?')\n",
    "parser.add_argument('-ten','--testOrNot', default=1,type=int,help='测试吗?')\n",
    "parser.add_argument('-tr','--testRatio', default = 0.9,type=float,help='测试集比例')\n",
    "parser.add_argument('-sm','--sampleMethond', default = 2,type=int,help='重采样方法：1：OverSample,2:SMOTE')\n",
    "parser.add_argument('-ht','--hType', default = 1,type=int,help='1为经典8层层次，2为拥堵定义的2层层次')\n",
    "'''\n",
    "\n",
    "\n",
    "!python3 mainSimpleStep0.py --numEpochs 2000 --trainOrNot 0 --testOrNot 1 --sampleMethond 2 --hType 1 --testRatio 0.95\n",
    "!python3 mainSimpleStep0.py --numEpochs 2000 --trainOrNot 1 --testOrNot 1 --sampleMethond 2 --hType 2 --testRatio 0.95"
   ]
  },
  {
   "cell_type": "code",
   "execution_count": null,
   "id": "5637aeb6-60ae-47f4-840f-3600eafcbbd5",
   "metadata": {},
   "outputs": [],
   "source": []
  },
  {
   "cell_type": "code",
   "execution_count": null,
   "id": "535a01d9-88f1-452b-b18e-7b2cae9fd92e",
   "metadata": {},
   "outputs": [],
   "source": [
    "print(\"mainSimpleStep1为简化的步骤1程序，用于获得低概率样本\")\n",
    "!python3 mainSimpleStep1.py --level 0 1 2 3 4 5 6 7 --threshold 0.7"
   ]
  },
  {
   "cell_type": "code",
   "execution_count": null,
   "id": "8b4424e0-f92d-46bd-8075-3b591fa4bc3c",
   "metadata": {},
   "outputs": [],
   "source": [
    "########################################################################################################################\n",
    "print(\"接程序1: 对较低概率的样本进行蒙特卡洛模拟分析,原始对应程序为mainSimSumoFranceDatra\")\n",
    "print(\"因为配置失误，采用将低概率的样本进行保存为文件，然后再root用户下命令行模式用SUMO模拟（不使用conda）\")\n",
    "print(\"输出为sumoSimData？？？.csv,里面有每个样本的sumo输出，kerasNN输出以及原始的输入输出\")\n",
    "print(\"程序编号为2\")\n",
    "print(\"程序编号为2\")\n",
    "########################################################################################################################\n",
    "\n",
    "'''\n",
    "    parser = argparse.ArgumentParser(description=\"step4D\")\n",
    "    parser.add_argument('-tm','--testMode', default=1, type=int,\\\n",
    "                        help='python多线程测试模式？1为主程序，2为测试多线程,0为不允许多线程模拟')\n",
    "    \n",
    "    parser.add_argument('-sn','--sectionNum', default=3000, type=int,\\\n",
    "                        help='#CPU并行运算的要处理的step1例子的分段数')\n",
    "    \n",
    "    parser.add_argument('-ll','--level', default=7, type=int,\\\n",
    "                        help='读取step1的例子所在的层数')\n",
    "    \n",
    "    parser.add_argument('-mk','--makeOneFileOrNot', default=1, type=int,\\\n",
    "                        help='合成一个文件用于后面分析？')\n",
    "    \n",
    "    \n",
    "    parser.add_argument('-su','--simNum', default=15, type=int,\\\n",
    "                        help='每个例子要仿真的次数')\n",
    "    parser.add_argument('-nrs','--numRunSample', default=18000, type=int,\\\n",
    "                        help='CPU并行运算的要处理的step1例子的数目')\n",
    "''''\n",
    "#!python3 sumoSimByFrance.py#运行runSumoSimFun.py 中test3\n",
    "#--sectionNum 5 一般为电脑CPU的物理核心数，太大会导致电脑忙死，无法运行其他程序\n",
    "\n",
    "# sectionNum 8,simNum = 150,8hour,\n",
    "# sectionNum 8,simNum = 100,5hour,\n",
    "#!python3 mainSimpleStep2_sumoSimByFranceParallSim1.py --testMode 1 --sectionNum 7 --level 7 --simNum 100  --numRunSample 100000 --makeOneFileOrNot 1\n",
    "#!python3 mainSimpleStep2_sumoSimByFranceParallSim1.py --testMode 1 --sectionNum 7 --level 7 --simNum 100  --numRunSample 100000 --makeOneFileOrNot 1\n",
    "# sectionNum 16,simNum = 15,38min,\n",
    "#python3 mainSimpleStep2_sumoSimByFranceParallSim1.py --testMode 1 --sectionNum 7 --level 2 --simNum 10  --numRunSample 1000 --makeOneFileOrNot 1 #测试用\n",
    "#python3 mainSimpleStep2_sumoSimByFranceParallSim1.py --testMode 1 --sectionNum 7 --level 7 --simNum 10  --numRunSample 1000 --makeOneFileOrNot 1 #测试用"
   ]
  },
  {
   "cell_type": "code",
   "execution_count": null,
   "id": "ca3287f2-f4c4-4cd5-adc3-a554da1d9bbf",
   "metadata": {},
   "outputs": [],
   "source": [
    "'''step0获得:原始数据库数据（有一定挑选）'''\n",
    "'''step1获得:根据step0的识别模型和识别结果的从step0中样本挑选低概率样本xlowpra'''\n",
    "'''step2获得：step1中低概率样本中SUMO成果仿真获取的样本（有一定挑选，去掉无法仿真样本大概1%）'''\n",
    "'''step3获得：将step2的样本与对应的step1的低概率样本的进行合成，并训练加强模型stage2Mode'''                                                 \n",
    "'''step3找到step2样本（就是df_step2）在step1的样本（xlowpra1）相对应的样本xlowpra2。然后df_step2和xlowpra2合成为x,用于训练加强模型stage2Mode''' \n",
    "'''\n",
    "    parser = argparse.ArgumentParser(description=\"step3\")\n",
    "\n",
    "    parser.add_argument('-ll','--level', default=7, type=int,\\\n",
    "                        help='读取step1的例子所在的层数')\n",
    "    \n",
    "   \n",
    "    parser.add_argument('-su','--simNum', default=15, type=int,\\\n",
    "                        help='step2_每个例子要仿真的次数')\n",
    "    \n",
    "    parser.add_argument('-s0c','--step0ModeCheck', default=1, type=int,\\\n",
    "                        help='对df_step2(sumo+)数据的step0的模型识别正确率')\n",
    "\n",
    "    parser.add_argument('-np','--numEpochs', default=1000, type=int,help='step3_stage2分离式模型每层训练次数')\n",
    "'''\n",
    "!python3 mainSimpleStep3.py --level 7 --simNum 100  --step0ModeCheck 1 --numEpochs 3000\n",
    "!python3 mainSimpleStep3.py --level 2 --simNum 100  --step0ModeCheck 1 --numEpochs 3000"
   ]
  },
  {
   "cell_type": "code",
   "execution_count": null,
   "id": "2e590032-4549-4d04-8092-51fae8cbb1b2",
   "metadata": {},
   "outputs": [],
   "source": [
    "print(\"程序4b: 在论文中体现，不同标记下的不同最大速度下的最小速度分布（不停车过路口）,获得一般参数下的预测值\")\n",
    "print(\"mainSimpleStep4B,需要用step3中lowprobsample\")\n",
    "'''\n",
    "    parser = argparse.ArgumentParser(description=\"step4B\")\n",
    "    parser.add_argument('-ll','--level', default=7,type=int,help='step3的运行第几层')\n",
    "    parser.add_argument('-su','--simNum', default=15, type=int,help='step2_每个例子要仿真的次数')\n",
    "    parser.add_argument('-gs','--genSimDataOrNot', default=1, type=int,help='将场景信息和仿真参数进行合成')\n",
    "    parser.add_argument('-ns','--nSamples', default=10000, type=int,help='需要4B处理多少个样本')\n",
    "'''\n",
    "\n",
    "\n",
    "#!python3 mainSimpleStep4B.py --level 7 --simNum 100  --genSimDataOrNot 0 --nSamples 100000\n",
    "!python3 mainSimpleStep4B.py --level 2 --simNum 100  --genSimDataOrNot 1 --nSamples 100000"
   ]
  },
  {
   "cell_type": "code",
   "execution_count": null,
   "id": "e1f8e3cb-a74a-4b11-ab3f-9a725257e834",
   "metadata": {},
   "outputs": [],
   "source": [
    "print(\"程序4A: 在论文中体现，实现验证幽灵堵车规则\")\n",
    "print(\"接程序3:程序3为根据输入的SUMO模拟特征对低概率样本进行重新训练,从而获得识别正确率提升\")\n",
    "print(\"mainSimpleStep4为简化的步骤4程序，注意只能接mainSimpleStep3的输出结果\")\n",
    "print(\"基本废弃 基本废弃 基本废弃 基本废弃 幽灵堵车规则\")\n",
    "!python3 mainSimpleStepa4A.py"
   ]
  },
  {
   "cell_type": "code",
   "execution_count": null,
   "id": "114d888e-b187-4ff3-91a5-ff3202bcd306",
   "metadata": {},
   "outputs": [],
   "source": []
  },
  {
   "cell_type": "code",
   "execution_count": null,
   "id": "16d14656-ac93-4dc2-8e50-e649a577e2d5",
   "metadata": {},
   "outputs": [],
   "source": [
    "print(\"程序4C: 在论文中体现，实现reactTime参数估计\")\n",
    "print(\"mainSimpleStep4C注意只能接mainSimpleStep3的输出结果,c参数拟合\")\n",
    "print(\"基本废弃 基本废弃 基本废弃 基本废弃 基本废弃reactTime参数估计\")\n",
    "!python3 mainSimpleStep4C.py"
   ]
  },
  {
   "cell_type": "code",
   "execution_count": null,
   "id": "f43eda0c-d3f1-47ee-b3ca-dab08cc3f0a2",
   "metadata": {},
   "outputs": [],
   "source": [
    "print(\"程序4D: 在论文中体现，不同标记下的最小速度分布（不停车过路口）,获得优化参数下的预测值\")\n",
    "print(\"mainSimpleStep4D,需要用step3中lowprobsample,4b中的step4b_analy1_SSVP_level7.csv和4c中的pipeline的预测reactTime\")\n",
    "#root用户下命令行模式用SUMO模拟（不使用conda）\n",
    "print(\"基本废弃 程序4D\")\n",
    "!python3 mainSimpleStep4D.py #root用户下命令行模式用SUMO模拟（不使用conda）\n"
   ]
  },
  {
   "cell_type": "code",
   "execution_count": null,
   "id": "19ac0602-de6d-4411-91d5-818dd0a1adec",
   "metadata": {},
   "outputs": [],
   "source": []
  }
 ],
 "metadata": {
  "kernelspec": {
   "display_name": "tensor23py36gpu",
   "language": "python",
   "name": "tensor23py36gpu"
  },
  "language_info": {
   "codemirror_mode": {
    "name": "ipython",
    "version": 3
   },
   "file_extension": ".py",
   "mimetype": "text/x-python",
   "name": "python",
   "nbconvert_exporter": "python",
   "pygments_lexer": "ipython3",
   "version": "3.6.15"
  },
  "varInspector": {
   "cols": {
    "lenName": 16,
    "lenType": 16,
    "lenVar": 40
   },
   "kernels_config": {
    "python": {
     "delete_cmd_postfix": "",
     "delete_cmd_prefix": "del ",
     "library": "var_list.py",
     "varRefreshCmd": "print(var_dic_list())"
    },
    "r": {
     "delete_cmd_postfix": ") ",
     "delete_cmd_prefix": "rm(",
     "library": "var_list.r",
     "varRefreshCmd": "cat(var_dic_list()) "
    }
   },
   "types_to_exclude": [
    "module",
    "function",
    "builtin_function_or_method",
    "instance",
    "_Feature"
   ],
   "window_display": false
  },
  "vscode": {
   "interpreter": {
    "hash": "b27f224da048d073ae2b306b979c73d2559eaa860bf21b792b51024f42769a7f"
   }
  }
 },
 "nbformat": 4,
 "nbformat_minor": 5
}
