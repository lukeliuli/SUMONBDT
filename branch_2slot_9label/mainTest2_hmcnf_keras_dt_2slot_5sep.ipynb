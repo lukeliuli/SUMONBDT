{
 "cells": [
  {
   "cell_type": "code",
   "execution_count": null,
   "id": "a07f6c25",
   "metadata": {
    "ExecuteTime": {
     "end_time": "2023-01-26T03:55:17.555121Z",
     "start_time": "2023-01-26T03:55:17.435109Z"
    }
   },
   "outputs": [],
   "source": [
    "#一些常用的命令\n",
    "!nvidia-smi\n",
    "\n",
    "import tensorflow as tf\n",
    "tf.__version__\n",
    "tf.config.list_physical_devices('GPU')"
   ]
  },
  {
   "cell_type": "code",
   "execution_count": null,
   "id": "a77b771c",
   "metadata": {},
   "outputs": [],
   "source": [
    "#一些常用的命令\n",
    "!git status\n",
    "!git add .\n",
    "!git commit -m \"correct and optimize some code\"\n",
    "!git push"
   ]
  },
  {
   "cell_type": "code",
   "execution_count": null,
   "id": "a52b3f88",
   "metadata": {
    "ExecuteTime": {
     "end_time": "2023-01-29T03:05:13.857103Z",
     "start_time": "2023-01-29T03:05:13.853125Z"
    }
   },
   "outputs": [],
   "source": [
    "from datetime import datetime\n",
    "timestr= datetime.now()\n",
    "print(timestr)\n",
    "\n",
    "!conda info"
   ]
  },
  {
   "cell_type": "code",
   "execution_count": null,
   "id": "e281fc84-e6c1-4671-9323-70c1fdbb7210",
   "metadata": {
    "tags": []
   },
   "outputs": [],
   "source": [
    "!rm -rf tmp*.csv"
   ]
  },
  {
   "cell_type": "code",
   "execution_count": null,
   "id": "7b98d3d1-78e7-4ab7-b7c9-1d71b2ab5b2a",
   "metadata": {},
   "outputs": [],
   "source": [
    "%history"
   ]
  },
  {
   "cell_type": "code",
   "execution_count": null,
   "id": "0c1c3d22-33c3-4ed1-ac94-04a6ae4dae54",
   "metadata": {},
   "outputs": [],
   "source": [
    "print(\"mainSimpleStep0为简化的步骤0程序，只有分离式\")\n",
    "!python3 mainSimpleStep0.py "
   ]
  },
  {
   "cell_type": "code",
   "execution_count": null,
   "id": "5637aeb6-60ae-47f4-840f-3600eafcbbd5",
   "metadata": {},
   "outputs": [],
   "source": [
    "print(\"mainSimpleStep0为简化的步骤0plus程序，用于根据交通拥堵定义，建立的二层模型进行混淆矩阵分析\")\n",
    "!python3 mainSimpleStep0plus.py "
   ]
  },
  {
   "cell_type": "code",
   "execution_count": null,
   "id": "535a01d9-88f1-452b-b18e-7b2cae9fd92e",
   "metadata": {},
   "outputs": [],
   "source": [
    "print(\"mainSimpleStep1为简化的步骤1程序，用于获得低概率样本\")\n",
    "!python3 mainSimpleStep1.py "
   ]
  },
  {
   "cell_type": "code",
   "execution_count": null,
   "id": "8b4424e0-f92d-46bd-8075-3b591fa4bc3c",
   "metadata": {},
   "outputs": [],
   "source": [
    "########################################################################################################################\n",
    "print(\"接程序1: 对较低概率的样本进行蒙特卡洛模拟分析,原始对应程序为mainSimSumoFranceDatra\")\n",
    "print(\"因为配置失误，采用将低概率的样本进行保存为文件，然后再root用户下命令行模式用SUMO模拟（不使用conda）\")\n",
    "print(\"输出为sumoSimData？？？.csv,里面有每个样本的sumo输出，kerasNN输出以及原始的输入输出\")\n",
    "print(\"程序编号为2\")\n",
    "print(\"程序编号为2\")\n",
    "########################################################################################################################\n",
    "#!python3 sumoSimByFrance.py#运行runSumoSimFun.py 中test3\n",
    "!python3 sumoSimByFranceParallSim1.py #root用户下命令行模式用SUMO模拟（不使用conda）"
   ]
  },
  {
   "cell_type": "code",
   "execution_count": null,
   "id": "ca3287f2-f4c4-4cd5-adc3-a554da1d9bbf",
   "metadata": {},
   "outputs": [],
   "source": [
    "print(\"mainSimpleStep3为简化的步骤3程序，注意只训练最底层1层模型,获得低概率样本+SUMO样本合成\")\n",
    "!python3 mainSimpleStep3.py "
   ]
  },
  {
   "cell_type": "code",
   "execution_count": null,
   "id": "e1f8e3cb-a74a-4b11-ab3f-9a725257e834",
   "metadata": {},
   "outputs": [],
   "source": [
    "print(\"程序4A: 在论文中体现，实现验证幽灵堵车规则\")\n",
    "print(\"接程序3:程序3为根据输入的SUMO模拟特征对低概率样本进行重新训练,从而获得识别正确率提升\")\n",
    "print(\"mainSimpleStep4为简化的步骤4程序，注意只能接mainSimpleStep3的输出结果\")\n",
    "!python3 mainSimpleStepa4A.py"
   ]
  },
  {
   "cell_type": "code",
   "execution_count": null,
   "id": "114d888e-b187-4ff3-91a5-ff3202bcd306",
   "metadata": {},
   "outputs": [],
   "source": [
    "print(\"程序4b: 在论文中体现，不同标记下的不同最大速度下的最小速度分布（不停车过路口）,获得一般参数下的预测值\")\n",
    "print(\"mainSimpleStep4B,需要用step3中lowprobsample\"\")\n",
    "\n",
    "!python3 mainSimpleStep4B.py"
   ]
  },
  {
   "cell_type": "code",
   "execution_count": null,
   "id": "16d14656-ac93-4dc2-8e50-e649a577e2d5",
   "metadata": {},
   "outputs": [],
   "source": [
    "print(\"程序4C: 在论文中体现，实现reactTime参数估计\")\n",
    "print(\"mainSimpleStep4C注意只能接mainSimpleStep3的输出结果,c参数拟合\")\n",
    "!python3 mainSimpleStep4C.py"
   ]
  },
  {
   "cell_type": "code",
   "execution_count": null,
   "id": "f43eda0c-d3f1-47ee-b3ca-dab08cc3f0a2",
   "metadata": {},
   "outputs": [],
   "source": [
    "print(\"程序4D: 在论文中体现，不同标记下的最小速度分布（不停车过路口）,获得优化参数下的预测值\")\n",
    "print(\"mainSimpleStep4D,需要用step3中lowprobsample,4b中的step4b_analy1_SSVP_level7.csv和4c中的pipeline的预测reactTime\")\n",
    "#root用户下命令行模式用SUMO模拟（不使用conda）\n",
    "\n",
    "!python3 mainSimpleStep4D.py #root用户下命令行模式用SUMO模拟（不使用conda）\n"
   ]
  },
  {
   "cell_type": "code",
   "execution_count": null,
   "id": "b9d32cb4-973a-4113-8bca-334a9c0a231c",
   "metadata": {},
   "outputs": [],
   "source": [
    "a=1\n",
    "b = a==1\n",
    "print(b)"
   ]
  },
  {
   "cell_type": "code",
   "execution_count": null,
   "id": "8687211a-bf7e-4cf6-97d7-461df3467ce0",
   "metadata": {},
   "outputs": [],
   "source": [
    "num1 = [0,0,0,0]#<20=0,<30=1,<40=2,<50=3\n",
    "analy = [num1 for i in range(7)]\n",
    "analy"
   ]
  },
  {
   "cell_type": "code",
   "execution_count": null,
   "id": "14725864-e6de-41cd-b0b7-662d63ddc5a8",
   "metadata": {},
   "outputs": [],
   "source": [
    "import numpy as np\n",
    "a =[[1,2,3],[4,5,6]]\n",
    "a[1][1] = 2\n",
    "a\n",
    "\n",
    "a =np.array(a)\n",
    "a[1,1] = 33\n",
    "a"
   ]
  },
  {
   "cell_type": "code",
   "execution_count": null,
   "id": "d77e9dc1-34f1-4694-9450-73a0828c0700",
   "metadata": {},
   "outputs": [],
   "source": [
    "[0]*9"
   ]
  },
  {
   "cell_type": "code",
   "execution_count": null,
   "id": "2baa571a-62b0-4f00-a4ee-d9f0d38e5b90",
   "metadata": {},
   "outputs": [],
   "source": [
    "import numpy as np\n",
    "a=np.array([1,2,3,4,5])\n",
    "aa=np.array([[1,2],[2,1],[3,3,3],[4],[5]])\n",
    "\n",
    "tmp = a<3\n",
    "print(tmp)\n",
    "b = aa[tmp]\n",
    "b"
   ]
  },
  {
   "cell_type": "code",
   "execution_count": null,
   "id": "c491c424-95a1-4f18-8fc0-9d3f7fec19c0",
   "metadata": {},
   "outputs": [],
   "source": [
    "a = [[1,2,3],[4,5,6]]\n",
    "b = [[7,8,9],[11,12,13]]\n",
    "c = a+b\n",
    "print(c)\n",
    "\n",
    "a.extend(b)\n",
    "print(a)\n",
    "\n",
    "#a.append(b)\n",
    "#print(a)"
   ]
  },
  {
   "cell_type": "code",
   "execution_count": null,
   "id": "552534be-3644-4e1b-8d5d-9af0858cb48b",
   "metadata": {},
   "outputs": [],
   "source": [
    "a = [[1,2,3],[4,5,6]]\n",
    "b = [[7,8,9],[11,12,13]]\n",
    "c = a+b\n",
    "print(c)\n",
    "\n",
    "a.extend(b)\n",
    "print(a)\n",
    "\n",
    "#a.append(b)\n",
    "#print(a)"
   ]
  },
  {
   "cell_type": "code",
   "execution_count": null,
   "id": "653a9b98-6c3d-455a-afed-a5380a0536f8",
   "metadata": {},
   "outputs": [],
   "source": [
    "\n",
    "import pandas as pd\n",
    "A=pd.DataFrame({'a':[1,2,3],'b':[2,3,4],'c':[2,4,5]})\n",
    "A=pd.DataFrame([[1,2,3],[2,3,4],[2,4,5]])\n",
    "print(A)\n",
    "print(A.shape)\n",
    "print(A.iloc[:,-1])\n",
    "\n",
    "A= A.drop(labels=[0],axis=0)\n",
    "print(A)\n",
    "A=pd.DataFrame({'a':[1,2,3],'b':[2,3,4],'c':[2,4,5]})\n",
    "print(A)\n",
    "print(A[['a','b']])"
   ]
  },
  {
   "cell_type": "code",
   "execution_count": null,
   "id": "7fa9d5e2-8d12-4e08-981c-a34b3fcab8c3",
   "metadata": {},
   "outputs": [],
   "source": [
    "\n",
    "import pandas as pd\n",
    "A=pd.DataFrame({'a':[1,2,3],'b':[2,3,4],'c':[2,4,5]})\n",
    "A=pd.DataFrame([[1,2,3],[2,3,4],[2,4,5]])\n",
    "print(A)\n",
    "print(A.shape)\n",
    "print(A.iloc[:,-1])\n",
    "\n",
    "A= A.drop(labels=[0],axis=0)\n",
    "print(A)\n",
    "A=pd.DataFrame({'a':[1,2,3],'b':[2,3,4],'c':[2,4,5]})\n",
    "print(A)\n",
    "print(A[['a','b']])"
   ]
  },
  {
   "cell_type": "code",
   "execution_count": null,
   "id": "5ee1c1e3-91b6-44a2-9dde-32c3a80a7040",
   "metadata": {},
   "outputs": [],
   "source": [
    "sampleIndex"
   ]
  },
  {
   "cell_type": "code",
   "execution_count": null,
   "id": "56d07d66-daff-4b8b-affa-24ae8575ccf4",
   "metadata": {},
   "outputs": [],
   "source": [
    "1. 以何种方式过红灯,如何优化\n",
    "A.红灯状态下，如果预测minSpeed为高速而且概率较高，那样可以认为车辆能以高速或者一般速度通过前方路口，可以进行模拟,看几个速度可以通过\n",
    "如果我已经知道我会以较高速度通过路口，不做模拟，直接给出值\n",
    "B.红灯状态下，如果预测minSpeed为低速而且概率较高，那样可以认为车辆一般无法不停车通过路口\n",
    "如果我已经知道我会以较低度通过路口，不做模拟，直接给出值\n",
    "C.中间状态呢，红灯状态下如果预测minSpeed为高速而且概率较低，可以进行模拟,看几个速度可以通过\n",
    "D.中间状态呢，红灯状态下如果预测minSpeed为低速而且概率较低，可以进行模拟,看几个速度可以通过\n",
    "\n",
    "2.预测幽灵堵车\n",
    "原因式本来这条道路机容易出现幽灵堵车，和有车不停变道\n",
    "\n",
    "A.如果蒙特卡洛预测能高速通过路口，但是预测minSpeed比较低，同时如果设定车辆延迟比较高时，也不能通过路口，认为出现幽灵堵车\n",
    "B.如果初始模型能预测通过路口，但是加入道路特征和设定车辆延迟比较高时也不能通过路口，也不能通过路口，认为出现幽灵堵车\n",
    "C.如果初始模型能预测能通过路口，但是概率比较低，但是加入道路特征和设定车辆延迟比较高时不能通过路口，认为出现幽灵堵车\n",
    "D.如果初始模型和蒙特卡洛模拟预测都能通过路口，但是概率比较低，但是加入道路特征和设定车辆延迟比较高时不能通过路口，认为出现幽灵堵车\n",
    "E.如果初始模型和蒙特卡洛模拟预测都能通过路口，但是概率比较高，但是加入道路特征和设定车辆延迟比较高时不能通过路口，不知道。"
   ]
  },
  {
   "cell_type": "code",
   "execution_count": null,
   "id": "3469bfbc-36d3-4497-a49d-4174661054a6",
   "metadata": {},
   "outputs": [],
   "source": [
    "\n",
    "from numpy import random\n",
    "a = random.normal(0.7,0.2)\n",
    "a\n",
    "from numpy import random\n",
    "b = random.uniform(1.7,1.9)\n",
    "b\n",
    "c =[[20,30]/3.5,[30,40],[40,50],[50,60],[60,70]]/3.6\n",
    "c"
   ]
  },
  {
   "cell_type": "code",
   "execution_count": null,
   "id": "263330e9-dfdf-4ae0-8e51-575068d67f5d",
   "metadata": {},
   "outputs": [],
   "source": [
    "\n",
    "a = np.array([[1,2],[3,4]])\n",
    "b = np.array([[1,2]])\n",
    "print(a)\n",
    "print(b)\n",
    "c = np.concatenate((a,b),axis = 0)\n",
    "print(c)\n",
    "\n",
    "c = np.empty([5,3]).tolist()\n",
    "c[1][1] = [1,2,3]\n",
    "print(c)\n",
    "\n",
    "c = np.zeros([5,3]).tolist()\n",
    "c[1][1] = [1,2,3]\n",
    "print(c)"
   ]
  },
  {
   "cell_type": "code",
   "execution_count": null,
   "id": "0ca989ae-3003-4c82-88f1-cab8ba0f0b79",
   "metadata": {},
   "outputs": [],
   "source": [
    "a = list(range(20))\n",
    "s1 = 2\n",
    "s2 = 10\n",
    "minSpeedList1 = [num for num in  a if num > s1 and num <s2]\n",
    "minSpeedList1"
   ]
  },
  {
   "cell_type": "code",
   "execution_count": null,
   "id": "a0e38e9f-8bbe-4624-afe3-f54bcf0a1b1f",
   "metadata": {},
   "outputs": [],
   "source": [
    "from multiprocessing import Process\n",
    "import time\n",
    "\n",
    "\n",
    "g1 = [0]*9\n",
    "g1[4] =3\n",
    "def my_function(x):\n",
    "    #global g1\n",
    "    \n",
    "    time.sleep(4)\n",
    "    g1[x] = 1\n",
    "    print(g1)\n",
    "    print(f'处理 {x}')\n",
    "    \n",
    "\n",
    "\n",
    "process = Process(target=my_function, args=(2,))\n",
    "process.start()  # 在一个新的进程中开始执行my_function\n",
    "process.join()\n",
    "\n",
    "print(\"进程完成\",g1)\n"
   ]
  },
  {
   "cell_type": "code",
   "execution_count": null,
   "id": "56648539-df48-4446-ada9-067b9d243e3b",
   "metadata": {},
   "outputs": [],
   "source": [
    "import multiprocessing\n",
    " \n",
    "def my_function(arg1, arg2):\n",
    "    print(arg1,arg2)\n",
    "    result = arg1*arg2\n",
    "    return result\n",
    " \n",
    "if __name__ == '__main__':\n",
    "    pool = multiprocessing.Pool()\n",
    "    \n",
    "    args = [(1, 2), (3,4)]  # 定义参数列表\n",
    "    \n",
    "    results = pool.starmap(my_function, args)   # 调用map函数进行并发计算\n",
    "    \n",
    "    print(results)"
   ]
  },
  {
   "cell_type": "code",
   "execution_count": null,
   "id": "baccda8b-0282-4508-8804-206609ee5b48",
   "metadata": {},
   "outputs": [],
   "source": [
    "import multiprocessing as mp\n",
    "params = dict()\n",
    "params[0] = 2\n",
    "params[1] = 3\n",
    "def job1(x,params):\n",
    "    t= x*params[0]*params[1]\n",
    "    return t\n",
    "\n",
    "def job0(z):\n",
    "    x = z[0]\n",
    "    params = z[1]\n",
    "    return job1(x,params)\n",
    "\n",
    "def multicore():\n",
    "    numSamples = 10\n",
    "    data_list=[[i,params] for i in range(numSamples)]\n",
    "    pool = mp.Pool() # 无参数时，使用所有cpu核\n",
    "    # pool = mp.Pool(processes=3) # 有参数时，使用CPU核数量为3\n",
    "    res = pool.map(job0, data_list)\n",
    "    print(res)\n",
    "    \n",
    "\n",
    "multicore()\n",
    "\n",
    "\n"
   ]
  },
  {
   "cell_type": "code",
   "execution_count": null,
   "id": "a22f8d9b-41af-41ee-9826-3422936201b6",
   "metadata": {},
   "outputs": [],
   "source": [
    "%cd /home/liuli/myCodes/SUMONBDT/branch_2slot_9label/data/\n",
    "%pwd\n",
    "!rm *.txt\n",
    "!rm step4D*.pkf"
   ]
  },
  {
   "cell_type": "code",
   "execution_count": null,
   "id": "f6478591-18f6-4893-af71-6ee53a17e393",
   "metadata": {},
   "outputs": [],
   "source": [
    "maxSpeedList =[[10,15],[20,25],[30,35],[40,80]]\n",
    "a= len(maxSpeedList)\n",
    "print(a)"
   ]
  },
  {
   "cell_type": "code",
   "execution_count": null,
   "id": "9940c665-771f-4ce7-a380-a54f608dfce1",
   "metadata": {},
   "outputs": [],
   "source": []
  }
 ],
 "metadata": {
  "kernelspec": {
   "display_name": "tensor23py36gpu",
   "language": "python",
   "name": "tensor23py36gpu"
  },
  "language_info": {
   "codemirror_mode": {
    "name": "ipython",
    "version": 3
   },
   "file_extension": ".py",
   "mimetype": "text/x-python",
   "name": "python",
   "nbconvert_exporter": "python",
   "pygments_lexer": "ipython3",
   "version": "3.6.15"
  },
  "varInspector": {
   "cols": {
    "lenName": 16,
    "lenType": 16,
    "lenVar": 40
   },
   "kernels_config": {
    "python": {
     "delete_cmd_postfix": "",
     "delete_cmd_prefix": "del ",
     "library": "var_list.py",
     "varRefreshCmd": "print(var_dic_list())"
    },
    "r": {
     "delete_cmd_postfix": ") ",
     "delete_cmd_prefix": "rm(",
     "library": "var_list.r",
     "varRefreshCmd": "cat(var_dic_list()) "
    }
   },
   "types_to_exclude": [
    "module",
    "function",
    "builtin_function_or_method",
    "instance",
    "_Feature"
   ],
   "window_display": false
  },
  "vscode": {
   "interpreter": {
    "hash": "b27f224da048d073ae2b306b979c73d2559eaa860bf21b792b51024f42769a7f"
   }
  }
 },
 "nbformat": 4,
 "nbformat_minor": 5
}
