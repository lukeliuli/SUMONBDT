{
 "cells": [
  {
   "cell_type": "code",
   "execution_count": null,
   "id": "15b944bc",
   "metadata": {
    "scrolled": true
   },
   "outputs": [],
   "source": [
    "!tar zxvf sumo-src-1.12.0.tar.gz"
   ]
  },
  {
   "cell_type": "code",
   "execution_count": null,
   "id": "e976b04d",
   "metadata": {},
   "outputs": [],
   "source": [
    "!git status"
   ]
  },
  {
   "cell_type": "code",
   "execution_count": null,
   "id": "612c7eab",
   "metadata": {
    "scrolled": true
   },
   "outputs": [],
   "source": [
    "%cd /home/pi/myPrjs\n",
    "%ls\n",
    "%mkdir sumo/build/cmake-build \n",
    "%cd sumo/build/cmake-build\n",
    "!cmake ../..\n",
    "!make -j4"
   ]
  },
  {
   "cell_type": "code",
   "execution_count": null,
   "id": "c29385ae",
   "metadata": {
    "scrolled": true
   },
   "outputs": [],
   "source": [
    "!git clone git@github.com:lukeliuli/SUMONBDT.git"
   ]
  },
  {
   "cell_type": "code",
   "execution_count": null,
   "id": "61d5c2ce",
   "metadata": {},
   "outputs": [],
   "source": [
    "import numpy as np\n",
    "import os\n",
    "import sys\n",
    "\n",
    "import random\n",
    "import csv\n",
    "import datetime\n",
    "if 'SUMO_HOME' in os.environ:\n",
    "     tools = os.path.join(os.environ['SUMO_HOME'], 'tools')\n",
    "     sys.path.append(tools)\n",
    "else:\n",
    "     sys.exit(\"please declare environment variable 'SUMO_HOME'\")"
   ]
  },
  {
   "cell_type": "code",
   "execution_count": null,
   "id": "19ec870a",
   "metadata": {},
   "outputs": [],
   "source": [
    "%cd /home/pi/myPrjs/SUMONBDT/\n",
    "%run testLibSumo.py\n",
    "%tb"
   ]
  },
  {
   "cell_type": "code",
   "execution_count": null,
   "id": "817c2c2a",
   "metadata": {},
   "outputs": [],
   "source": [
    "#for colab google \n",
    "#git clone git@github.com:lukeliuli/SUMONBDT.git\n",
    "%cd /content/drive/MyDrive/SUMONBDT/trainedModes\n",
    "%ls -l\n",
    "%rm -rf nbdt*\n",
    "%cd /content/drive/MyDrive/SUMONBDT/\n",
    "%pwd \n",
    "!git config --global user.name \"lukeliuli\" \n",
    "!git config --global user.email \"lukeliuli@163.com\" \n",
    "!git pull"
   ]
  }
 ],
 "metadata": {
  "kernelspec": {
   "display_name": "Python 3",
   "language": "python",
   "name": "python3"
  },
  "language_info": {
   "codemirror_mode": {
    "name": "ipython",
    "version": 3
   },
   "file_extension": ".py",
   "mimetype": "text/x-python",
   "name": "python",
   "nbconvert_exporter": "python",
   "pygments_lexer": "ipython3",
   "version": "3.6.13"
  }
 },
 "nbformat": 4,
 "nbformat_minor": 5
}
