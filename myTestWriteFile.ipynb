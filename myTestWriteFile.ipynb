{
 "cells": [
  {
   "cell_type": "code",
   "execution_count": 20,
   "id": "cc511766-f050-4812-8dd7-ee174352822a",
   "metadata": {},
   "outputs": [
    {
     "name": "stdout",
     "output_type": "stream",
     "text": [
      "Writing myTestWriteFile.py\n"
     ]
    }
   ],
   "source": [
    "%%writefile  myTestWriteFile.py\n",
    "\n",
    "###(\"这是测试文件\")\n",
    "print(\"这是测试文件\")\n",
    "a = [1,3,4,5]\n",
    "b = [7,8,9,1]\n",
    "a!=b\n",
    "b!=a\n",
    "print(\"这是测试文件\")\n",
    "print(\"这是测试文件\")\n",
    "print(\"这是测试文件\")\n",
    "print(\"这是测试文件\")\n",
    "print(\"这是测试文件\")\n",
    "print(\"这是测试文件\")"
   ]
  },
  {
   "cell_type": "code",
   "execution_count": 15,
   "id": "ec3fb5bd-b422-41f4-9ed4-f8d0198ced91",
   "metadata": {},
   "outputs": [
    {
     "data": {
      "text/plain": [
       "False"
      ]
     },
     "execution_count": 15,
     "metadata": {},
     "output_type": "execute_result"
    }
   ],
   "source": [
    "c = [1,3,4,5]\n",
    "d = [7,8,9,1]\n",
    "a==b"
   ]
  },
  {
   "cell_type": "code",
   "execution_count": null,
   "id": "d93c214e-c7c3-405c-b930-29eab71a8ad0",
   "metadata": {},
   "outputs": [],
   "source": []
  }
 ],
 "metadata": {
  "kernelspec": {
   "display_name": "Python [conda env:tensor23py36cpu] *",
   "language": "python",
   "name": "conda-env-tensor23py36cpu-py"
  },
  "language_info": {
   "codemirror_mode": {
    "name": "ipython",
    "version": 3
   },
   "file_extension": ".py",
   "mimetype": "text/x-python",
   "name": "python",
   "nbconvert_exporter": "python",
   "pygments_lexer": "ipython3",
   "version": "3.6.13"
  }
 },
 "nbformat": 4,
 "nbformat_minor": 5
}
